{
 "cells": [
  {
   "cell_type": "markdown",
   "metadata": {},
   "source": [
    "1 Defina a função soma_nat que recebe como argumento um número natural n e devolve a soma de todos os números naturais até n.\n",
    "\n",
    "Ex: soma_nat(5) = 15"
   ]
  },
  {
   "cell_type": "code",
   "execution_count": 13,
   "metadata": {},
   "outputs": [],
   "source": [
    "def  soma_natsoma_nat(x):\n",
    "    soma = 0\n",
    "    for x in range (1,x+1):\n",
    "        soma+=x;\n",
    "    return soma #Stephani Munique Pereira \n",
    "\n",
    "def soma_nat_recursiva(n):\n",
    "    return 0 if n == 0 else n +soma_nat_recursiva(n-1) #201305525\n",
    "\n",
    "assert(soma_nat_recursiva(3) == 6)\n",
    "assert(soma_nat_recursiva(5) == 15)"
   ]
  },
  {
   "cell_type": "markdown",
   "metadata": {},
   "source": [
    "2 Defina a função div que recebe como argumentos dois números naturais m e n e devolve o resultado da divisão inteira de m por n. Neste exercício você não pode recorrer às operações aritméticas de multiplicação, divisão e resto da divisão inteira.\n",
    "\n",
    "Ex: div(7,2) = 3"
   ]
  },
  {
   "cell_type": "code",
   "execution_count": 16,
   "metadata": {},
   "outputs": [],
   "source": [
    "def div(m, n):\n",
    "    return 1 + div(m - n, n) if m >= n else 0 #Stephani Munique Pereira \n",
    "assert(div(7,2) == 3) #201305525"
   ]
  },
  {
   "cell_type": "markdown",
   "metadata": {},
   "source": [
    "3 Defina a função prim_alg que recebe como argumento um número natural e devolve o primeiro algarismo (o mais significativo) \n",
    "na representação decimal de n."
   ]
  },
  {
   "cell_type": "code",
   "execution_count": null,
   "metadata": {},
   "outputs": [],
   "source": [
    "def prim_alg(num):\n",
    "    return int(str(num)[:1])\n",
    "\n",
    "def prim_alg_rec(num): #Stephani Munique Pereira\n",
    "    return int(num) if len(str(num)) == 1 else prim_alg_rec(str(num)[:-1])\n",
    "\n",
    "assert(prim_alg_rec(60989) == 6)\n",
    "assert(prim_alg_rec(70989) == 7)#201305525"
   ]
  },
  {
   "cell_type": "markdown",
   "metadata": {},
   "source": [
    "4 Defina a função prod_lista que recebe como argumento uma lista de inteiros e devolve o produto dos seus elementos.\n",
    "\n",
    "Ex: prod_lista([1,2,3,4,5,6]) = 720"
   ]
  },
  {
   "cell_type": "code",
   "execution_count": 14,
   "metadata": {},
   "outputs": [],
   "source": [
    "def prod_lista(lista):\n",
    "    return lista[len(lista) - 1] * prod_lista(lista[:-1]) if len(lista) > 0 else 1\n",
    "#Stephani Munique Pereira\n",
    "assert(prod_lista([1,2,3,4,5,6]) == 720)\n",
    "assert(prod_lista([2,2,2]) == 8) #201305525"
   ]
  },
  {
   "cell_type": "markdown",
   "metadata": {},
   "source": [
    "6 Defina a função todos_imparesQ que recebe como argumento uma lista de números inteiros w e devolve True se w contém apenas números ímpares e False em caso contrário.\n",
    "\n",
    "Ex: todos_imparesQ([1,3,5,7]) = True Ex: todos_imparesQ([]) = True Ex: todos_imparesQ([1,2,3,4,5]) = False"
   ]
  },
  {
   "cell_type": "code",
   "execution_count": 18,
   "metadata": {},
   "outputs": [],
   "source": [
    "def todos_imparesQ(w):\n",
    "    return False if len(w) > 0 and (w[len(w)-1]%2== 0 or todos_imparesQ(w[:-1])) else True\n",
    "\n",
    "assert(todos_imparesQ([1,3,5,7]) == True)#Stephani Munique Pereira\n",
    "assert(todos_imparesQ([]) == True) #201305525\n",
    "assert(todos_imparesQ([1,2,3,4,4,4,5,1]) == False)"
   ]
  }
 ],
 "metadata": {
  "kernelspec": {
   "display_name": "Python 3",
   "language": "python",
   "name": "python3"
  },
  "language_info": {
   "codemirror_mode": {
    "name": "ipython",
    "version": 3
   },
   "file_extension": ".py",
   "mimetype": "text/x-python",
   "name": "python",
   "nbconvert_exporter": "python",
   "pygments_lexer": "ipython3",
   "version": "3.6.4"
  }
 },
 "nbformat": 4,
 "nbformat_minor": 2
}
